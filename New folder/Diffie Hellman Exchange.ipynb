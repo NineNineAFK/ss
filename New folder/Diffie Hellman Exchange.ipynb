{
 "cells": [
  {
   "cell_type": "code",
   "execution_count": 1,
   "id": "3d5d00ca",
   "metadata": {},
   "outputs": [
    {
     "name": "stdout",
     "output_type": "stream",
     "text": [
      "Publicly Shared Values:\n",
      "Prime (p): 23\n",
      "Generator (g): 5\n",
      "\n",
      "Private Keys:\n",
      "User A's Private Key: 6\n",
      "User B's Private Key: 15\n",
      "\n",
      "Public Keys:\n",
      "User A's Public Key: 8\n",
      "User B's Public Key: 19\n",
      "\n",
      "Shared Secrets:\n",
      "User A's Shared Secret: 2\n",
      "User B's Shared Secret: 2\n",
      "\n",
      "Key Exchange Successful!\n"
     ]
    }
   ],
   "source": [
    "import random\n",
    "\n",
    "def diffie_hellman(p, g, private_key_a, private_key_b):\n",
    "    \"\"\"\n",
    "    Perform Diffie-Hellman Key Exchange.\n",
    "    :param p: Prime number (publicly shared)\n",
    "    :param g: Generator (publicly shared)\n",
    "    :param private_key_a: Private key of User A\n",
    "    :param private_key_b: Private key of User B\n",
    "    :return: Shared secret\n",
    "    \"\"\"\n",
    "    # User A calculates public value A = g^a mod p\n",
    "    public_key_a = pow(g, private_key_a, p)\n",
    "\n",
    "    # User B calculates public value B = g^b mod p\n",
    "    public_key_b = pow(g, private_key_b, p)\n",
    "\n",
    "    # User A calculates the shared secret using B^a mod p\n",
    "    shared_secret_a = pow(public_key_b, private_key_a, p)\n",
    "\n",
    "    # User B calculates the shared secret using A^b mod p\n",
    "    shared_secret_b = pow(public_key_a, private_key_b, p)\n",
    "\n",
    "    return public_key_a, public_key_b, shared_secret_a, shared_secret_b\n",
    "\n",
    "\n",
    "# Example Usage\n",
    "if __name__ == \"__main__\":\n",
    "    # Publicly shared prime number and generator\n",
    "    p = 23  # Prime number\n",
    "    g = 5   # Generator\n",
    "\n",
    "    # Private keys (kept secret by each party)\n",
    "    private_key_a = random.randint(1, p - 1)  # User A's private key\n",
    "    private_key_b = random.randint(1, p - 1)  # User B's private key\n",
    "\n",
    "    print(\"Publicly Shared Values:\")\n",
    "    print(f\"Prime (p): {p}\")\n",
    "    print(f\"Generator (g): {g}\")\n",
    "\n",
    "    print(\"\\nPrivate Keys:\")\n",
    "    print(f\"User A's Private Key: {private_key_a}\")\n",
    "    print(f\"User B's Private Key: {private_key_b}\")\n",
    "\n",
    "    # Perform Diffie-Hellman Exchange\n",
    "    public_key_a, public_key_b, shared_secret_a, shared_secret_b = diffie_hellman(p, g, private_key_a, private_key_b)\n",
    "\n",
    "    print(\"\\nPublic Keys:\")\n",
    "    print(f\"User A's Public Key: {public_key_a}\")\n",
    "    print(f\"User B's Public Key: {public_key_b}\")\n",
    "\n",
    "    print(\"\\nShared Secrets:\")\n",
    "    print(f\"User A's Shared Secret: {shared_secret_a}\")\n",
    "    print(f\"User B's Shared Secret: {shared_secret_b}\")\n",
    "\n",
    "    # Verify that both shared secrets are the same\n",
    "    assert shared_secret_a == shared_secret_b, \"Shared secrets do not match!\"\n",
    "    print(\"\\nKey Exchange Successful!\")\n"
   ]
  },
  {
   "cell_type": "code",
   "execution_count": null,
   "id": "f72b07c0",
   "metadata": {},
   "outputs": [],
   "source": []
  }
 ],
 "metadata": {
  "kernelspec": {
   "display_name": "Python 3 (ipykernel)",
   "language": "python",
   "name": "python3"
  },
  "language_info": {
   "codemirror_mode": {
    "name": "ipython",
    "version": 3
   },
   "file_extension": ".py",
   "mimetype": "text/x-python",
   "name": "python",
   "nbconvert_exporter": "python",
   "pygments_lexer": "ipython3",
   "version": "3.9.12"
  }
 },
 "nbformat": 4,
 "nbformat_minor": 5
}
