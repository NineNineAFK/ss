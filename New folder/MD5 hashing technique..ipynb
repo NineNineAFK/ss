{
 "cells": [
  {
   "cell_type": "code",
   "execution_count": 1,
   "id": "10004c9a",
   "metadata": {},
   "outputs": [
    {
     "name": "stdout",
     "output_type": "stream",
     "text": [
      "Input Text: Hello, MD5!\n",
      "MD5 Hash: 383e139e64e5f46de9d03ba3695da2d8\n"
     ]
    }
   ],
   "source": [
    "import hashlib\n",
    "\n",
    "def md5_hash(text):\n",
    "    \"\"\"\n",
    "    Generate the MD5 hash of a given input string.\n",
    "    \n",
    "    :param text: Input string to hash\n",
    "    :return: MD5 hash in hexadecimal format\n",
    "    \"\"\"\n",
    "    # Encode the input text to bytes\n",
    "    encoded_text = text.encode()\n",
    "\n",
    "    # Create an MD5 hash object\n",
    "    hash_object = hashlib.md5()\n",
    "\n",
    "    # Update the hash object with the encoded text\n",
    "    hash_object.update(encoded_text)\n",
    "\n",
    "    # Get the hexadecimal representation of the hash\n",
    "    md5_hashed = hash_object.hexdigest()\n",
    "\n",
    "    return md5_hashed\n",
    "\n",
    "# Example Usage\n",
    "if __name__ == \"__main__\":\n",
    "    # Input string\n",
    "    text = \"Hello, MD5!\"\n",
    "\n",
    "    # Generate MD5 hash\n",
    "    hashed_text = md5_hash(text)\n",
    "\n",
    "    print(f\"Input Text: {text}\")\n",
    "    print(f\"MD5 Hash: {hashed_text}\")\n"
   ]
  },
  {
   "cell_type": "code",
   "execution_count": null,
   "id": "91e75d93",
   "metadata": {},
   "outputs": [],
   "source": []
  }
 ],
 "metadata": {
  "kernelspec": {
   "display_name": "Python 3 (ipykernel)",
   "language": "python",
   "name": "python3"
  },
  "language_info": {
   "codemirror_mode": {
    "name": "ipython",
    "version": 3
   },
   "file_extension": ".py",
   "mimetype": "text/x-python",
   "name": "python",
   "nbconvert_exporter": "python",
   "pygments_lexer": "ipython3",
   "version": "3.9.12"
  }
 },
 "nbformat": 4,
 "nbformat_minor": 5
}
