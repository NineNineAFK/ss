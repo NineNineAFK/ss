{
 "cells": [
  {
   "cell_type": "code",
   "execution_count": 1,
   "id": "d62842c7",
   "metadata": {},
   "outputs": [
    {
     "name": "stdout",
     "output_type": "stream",
     "text": [
      "Input Text: Hello, SHA-1!\n",
      "SHA-1 Hash: f322e078fef4f49da1618d3793d3272a91f0488c\n"
     ]
    }
   ],
   "source": [
    "import hashlib\n",
    "\n",
    "def sha1_hash(text):\n",
    "    \"\"\"\n",
    "    Generate the SHA-1 hash of a given input string.\n",
    "    \n",
    "    :param text: Input string to hash\n",
    "    :return: SHA-1 hash in hexadecimal format\n",
    "    \"\"\"\n",
    "    # Encode the input text to bytes\n",
    "    encoded_text = text.encode()\n",
    "\n",
    "    # Create a SHA-1 hash object\n",
    "    hash_object = hashlib.sha1()\n",
    "\n",
    "    # Update the hash object with the encoded text\n",
    "    hash_object.update(encoded_text)\n",
    "\n",
    "    # Get the hexadecimal representation of the hash\n",
    "    sha1_hashed = hash_object.hexdigest()\n",
    "\n",
    "    return sha1_hashed\n",
    "\n",
    "# Example Usage\n",
    "if __name__ == \"__main__\":\n",
    "    # Input string\n",
    "    text = \"Hello, SHA-1!\"\n",
    "\n",
    "    # Generate SHA-1 hash\n",
    "    hashed_text = sha1_hash(text)\n",
    "\n",
    "    print(f\"Input Text: {text}\")\n",
    "    print(f\"SHA-1 Hash: {hashed_text}\")\n"
   ]
  },
  {
   "cell_type": "code",
   "execution_count": null,
   "id": "2a4e592e",
   "metadata": {},
   "outputs": [],
   "source": []
  }
 ],
 "metadata": {
  "kernelspec": {
   "display_name": "Python 3 (ipykernel)",
   "language": "python",
   "name": "python3"
  },
  "language_info": {
   "codemirror_mode": {
    "name": "ipython",
    "version": 3
   },
   "file_extension": ".py",
   "mimetype": "text/x-python",
   "name": "python",
   "nbconvert_exporter": "python",
   "pygments_lexer": "ipython3",
   "version": "3.9.12"
  }
 },
 "nbformat": 4,
 "nbformat_minor": 5
}
