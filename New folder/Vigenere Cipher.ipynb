{
 "cells": [
  {
   "cell_type": "code",
   "execution_count": 1,
   "id": "310662ed",
   "metadata": {},
   "outputs": [
    {
     "name": "stdout",
     "output_type": "stream",
     "text": [
      "Plaintext: HELLO WORLD\n",
      "Key: KEY\n",
      "Ciphertext: RIJVS GSPVH\n",
      "Decrypted Text: HELLO WORLD\n"
     ]
    }
   ],
   "source": [
    "def generate_key(plaintext, key):\n",
    "    # Repeat or truncate the key to match the length of the plaintext\n",
    "    key = list(key)\n",
    "    if len(key) == len(plaintext):\n",
    "        return key\n",
    "    else:\n",
    "        key = key * (len(plaintext) // len(key)) + key[:len(plaintext) % len(key)]\n",
    "    return ''.join(key)\n",
    "\n",
    "def vigenere_encrypt(plaintext, key):\n",
    "    # Encrypt the plaintext using the Vigenère cipher\n",
    "    plaintext = plaintext.upper()\n",
    "    key = generate_key(plaintext, key).upper()\n",
    "    ciphertext = ''\n",
    "\n",
    "    for p, k in zip(plaintext, key):\n",
    "        if p.isalpha():\n",
    "            # Shift the plaintext character by the key character\n",
    "            shift = (ord(p) - ord('A') + ord(k) - ord('A')) % 26\n",
    "            ciphertext += chr(shift + ord('A'))\n",
    "        else:\n",
    "            # Non-alphabetic characters remain unchanged\n",
    "            ciphertext += p\n",
    "\n",
    "    return ciphertext\n",
    "\n",
    "def vigenere_decrypt(ciphertext, key):\n",
    "    # Decrypt the ciphertext using the Vigenère cipher\n",
    "    ciphertext = ciphertext.upper()\n",
    "    key = generate_key(ciphertext, key).upper()\n",
    "    plaintext = ''\n",
    "\n",
    "    for c, k in zip(ciphertext, key):\n",
    "        if c.isalpha():\n",
    "            # Reverse the shift of the ciphertext character by the key character\n",
    "            shift = (ord(c) - ord('A') - (ord(k) - ord('A'))) % 26\n",
    "            plaintext += chr(shift + ord('A'))\n",
    "        else:\n",
    "            # Non-alphabetic characters remain unchanged\n",
    "            plaintext += c\n",
    "\n",
    "    return plaintext\n",
    "\n",
    "# Example Usage\n",
    "if __name__ == \"__main__\":\n",
    "    plaintext = \"HELLO WORLD\"\n",
    "    key = \"KEY\"\n",
    "\n",
    "    print(\"Plaintext:\", plaintext)\n",
    "    print(\"Key:\", key)\n",
    "\n",
    "    # Encrypt the plaintext\n",
    "    ciphertext = vigenere_encrypt(plaintext, key)\n",
    "    print(\"Ciphertext:\", ciphertext)\n",
    "\n",
    "    # Decrypt the ciphertext\n",
    "    decrypted_text = vigenere_decrypt(ciphertext, key)\n",
    "    print(\"Decrypted Text:\", decrypted_text)\n"
   ]
  },
  {
   "cell_type": "code",
   "execution_count": null,
   "id": "2e7e787f",
   "metadata": {},
   "outputs": [],
   "source": []
  },
  {
   "cell_type": "code",
   "execution_count": null,
   "id": "d6c41425",
   "metadata": {},
   "outputs": [],
   "source": []
  }
 ],
 "metadata": {
  "kernelspec": {
   "display_name": "Python 3 (ipykernel)",
   "language": "python",
   "name": "python3"
  },
  "language_info": {
   "codemirror_mode": {
    "name": "ipython",
    "version": 3
   },
   "file_extension": ".py",
   "mimetype": "text/x-python",
   "name": "python",
   "nbconvert_exporter": "python",
   "pygments_lexer": "ipython3",
   "version": "3.9.12"
  }
 },
 "nbformat": 4,
 "nbformat_minor": 5
}
