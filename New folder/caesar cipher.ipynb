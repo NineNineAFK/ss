{
 "cells": [
  {
   "cell_type": "code",
   "execution_count": 6,
   "id": "cf1c928f",
   "metadata": {},
   "outputs": [
    {
     "name": "stdout",
     "output_type": "stream",
     "text": [
      "Ciphertext: KHOOR ZRUOG\n",
      "Decrypted text: HELLO WORLD\n"
     ]
    }
   ],
   "source": [
    "def caesar_cipher(text, shift, mode='encrypt'):\n",
    "    result = \"\"\n",
    "    if mode == 'decrypt':\n",
    "        shift = -shift  # Reverse the shift for decryption\n",
    "    \n",
    "    for char in text:\n",
    "        # Encrypt only alphabetic characters\n",
    "        if char.isalpha():\n",
    "            # Determine if the character is uppercase or lowercase\n",
    "            start = ord('A') if char.isupper() else ord('a')\n",
    "            # Shift character and wrap around using modulo\n",
    "            result += chr((ord(char) - start + shift) % 26 + start)\n",
    "        else:\n",
    "            # Non-alphabetic characters remain unchanged\n",
    "            result += char\n",
    "    return result\n",
    "\n",
    "\n",
    "# Example usage\n",
    "plaintext = \"HELLO WORLD\"\n",
    "shift = 3\n",
    "\n",
    "# Encrypt the plaintext\n",
    "ciphertext = caesar_cipher(plaintext, shift, mode='encrypt')\n",
    "print(f\"Ciphertext: {ciphertext}\")\n",
    "\n",
    "# Decrypt the ciphertext\n",
    "decrypted_text = caesar_cipher(ciphertext, shift, mode='decrypt')\n",
    "print(f\"Decrypted text: {decrypted_text}\")\n"
   ]
  },
  {
   "cell_type": "code",
   "execution_count": null,
   "id": "8aeb76da",
   "metadata": {},
   "outputs": [],
   "source": []
  }
 ],
 "metadata": {
  "kernelspec": {
   "display_name": "Python 3 (ipykernel)",
   "language": "python",
   "name": "python3"
  },
  "language_info": {
   "codemirror_mode": {
    "name": "ipython",
    "version": 3
   },
   "file_extension": ".py",
   "mimetype": "text/x-python",
   "name": "python",
   "nbconvert_exporter": "python",
   "pygments_lexer": "ipython3",
   "version": "3.9.12"
  }
 },
 "nbformat": 4,
 "nbformat_minor": 5
}
